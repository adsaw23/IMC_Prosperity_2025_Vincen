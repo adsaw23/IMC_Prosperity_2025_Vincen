{
 "cells": [
  {
   "cell_type": "code",
   "execution_count": null,
   "id": "93700bd3",
   "metadata": {},
   "outputs": [
    {
     "name": "stdout",
     "output_type": "stream",
     "text": [
      "pureProfit:  [10.   13.33 12.33  9.   15.5  17.   12.5  10.   18.25 11.12]\n",
      "thresh:  [0.01  0.1   0.044 0.08  0.042 0.024 0.06  0.02  0.106 0.098]\n"
     ]
    }
   ],
   "source": [
    "import pandas as pd\n",
    "import numpy as np\n",
    "import matplotlib.pyplot as plt\n",
    "\n",
    "v=np.array([(10,1),(80,6),(37,3),(90,10),(31,2),(17,1),(50,4),(20,2),(73,4),(89,8)])\n",
    "pureProfit=np.zeros(10)\n",
    "for i in range(10):\n",
    "    mult, hunt = v[i]\n",
    "    pureProfit[i] = mult/hunt\n",
    "pureProfit=np.round(pureProfit,2)\n",
    "print(\"pureProfit: \",pureProfit)\n",
    "thresh = np.zeros(10)\n",
    "for i in range(10):\n",
    "    mult, hunt = v[i]\n",
    "    thresh[i] = (mult - 5*hunt)/500\n",
    "print(\"thresh: \",thresh)"
   ]
  },
  {
   "cell_type": "markdown",
   "id": "f9aef17d",
   "metadata": {},
   "source": [
    "As we can see above, the expected profit is max for index 8 and 1 at 10.6% and 10% respectively. thus betting for a 2nd container might not be a wise strategy. This means we expect less than 10.6% (or 10%) of the players to choose this box and gain profit."
   ]
  },
  {
   "cell_type": "code",
   "execution_count": 18,
   "id": "626daece",
   "metadata": {},
   "outputs": [
    {
     "name": "stdout",
     "output_type": "stream",
     "text": [
      "pureProfit:  [10.   13.33 12.33  9.   15.5  17.   12.5  10.   18.25 11.12]\n",
      "share:  [ 7.75 10.33  9.56  6.98 12.01 13.18  9.69  7.75 14.14  8.62]\n"
     ]
    }
   ],
   "source": [
    "pureProfit=np.zeros(10)\n",
    "for i in range(10):\n",
    "    mult, hunt = v[i]\n",
    "    pureProfit[i] = mult/hunt\n",
    "pureProfit=np.round(pureProfit,2)\n",
    "print(\"pureProfit: \",pureProfit)\n",
    "share=np.array(pureProfit/np.sum(pureProfit))*100\n",
    "share=np.round(share,2)\n",
    "print(\"share: \",share)"
   ]
  },
  {
   "cell_type": "markdown",
   "id": "ef18e3b9",
   "metadata": {},
   "source": [
    "If we neglect other players, we can see that the index 8 and index 5 give the max pure profit.\n",
    "If we approximate the number of players going to any container using the pure profit mark, we can see that 8 and 5 have the highest attractiveness"
   ]
  },
  {
   "cell_type": "code",
   "execution_count": 19,
   "id": "9b4a4ecb",
   "metadata": {},
   "outputs": [
    {
     "name": "stdout",
     "output_type": "stream",
     "text": [
      "maxmin_for1:  [ 990.1 7547.2 3592.2 8181.8 3039.2 1683.2 4807.7 1960.8 7019.2 8240.7]\n"
     ]
    }
   ],
   "source": [
    "maxmin_for1=np.zeros(10)\n",
    "for i in range(10):\n",
    "    mult, hunt = v[i]\n",
    "    maxmin_for1[i] = mult*10000/(hunt+100)\n",
    "maxmin_for1=np.round(maxmin_for1,1)\n",
    "print(\"maxmin_for1: \",maxmin_for1)"
   ]
  },
  {
   "cell_type": "code",
   "execution_count": 20,
   "id": "2ccb2ab2",
   "metadata": {},
   "outputs": [
    {
     "name": "stdout",
     "output_type": "stream",
     "text": [
      "maxmin_for2:  -33577.44107744108\n"
     ]
    }
   ],
   "source": [
    "maxmin_for2=float('-inf')\n",
    "for i in range(10):\n",
    "    mult, hunt = v[i]\n",
    "    for j in range(10):\n",
    "        if i != j:\n",
    "            mult2, hunt2 = v[j]\n",
    "            maxmin_for2 = max(mult*10000/(hunt+100)+mult2*10000/(hunt2+100)-50000, maxmin_for2)\n",
    "print(\"maxmin_for2: \",maxmin_for2)"
   ]
  },
  {
   "cell_type": "markdown",
   "id": "5b14ff3b",
   "metadata": {},
   "source": [
    "In a pessicimistic approach(considering everyone chooses the containers we choose), we can see that 2 containers will not give any profit. they will give a minimum loss of 33k"
   ]
  },
  {
   "cell_type": "code",
   "execution_count": 21,
   "id": "0a67f0d3",
   "metadata": {},
   "outputs": [
    {
     "name": "stdout",
     "output_type": "stream",
     "text": [
      "Exponent: 0 Profit: 282594.23503325944 Optimal expeditions: 5   8\n",
      "Exponent: 1 Profit: 276476.73912702966 Optimal expeditions: 5   8\n",
      "Exponent: 2 Profit: 270163.7125118715 Optimal expeditions: 5   8\n",
      "Exponent: 3 Profit: 266311.0753600821 Optimal expeditions: 4   8\n",
      "Exponent: 4 Profit: 263745.90780674433 Optimal expeditions: 4   8\n",
      "Exponent: 5 Profit: 261668.33225030452 Optimal expeditions: 4   8\n",
      "Exponent: 6 Profit: 260071.43833265238 Optimal expeditions: 4   8\n",
      "Exponent: 7 Profit: 258893.74835951335 Optimal expeditions: 4   8\n",
      "Exponent: 8 Profit: 258051.68875364214 Optimal expeditions: 4   8\n",
      "Exponent: 9 Profit: 257461.70995565678 Optimal expeditions: 4   8\n"
     ]
    }
   ],
   "source": [
    "for k in range(10):\n",
    "    shares = pureProfit**k\n",
    "    shares = shares / np.sum(shares)\n",
    "    maxmin_fori=float('-inf')\n",
    "    l,n=-1,-1\n",
    "    for i in range(10):\n",
    "        mult, hunt = v[i]\n",
    "        for j in range(10):\n",
    "            if i != j:\n",
    "                mult2, hunt2 = v[j]\n",
    "                if mult*10000/(hunt+shares[i])+mult2*10000/(hunt2+shares[j])-50000 > maxmin_fori:\n",
    "                    maxmin_fori = mult*10000/(hunt+shares[i])+mult2*10000/(hunt2+shares[j])-50000\n",
    "                    l,n=i,j\n",
    "    print(\"Exponent:\", k, \"Profit:\", f\"{maxmin_fori}\", \"Optimal expeditions:\", l,\" \",n )"
   ]
  },
  {
   "cell_type": "markdown",
   "id": "648b4578",
   "metadata": {},
   "source": [
    "Last year the prediction for exponent ended up being the best. Also we can see that 8th index is the best always."
   ]
  }
 ],
 "metadata": {
  "kernelspec": {
   "display_name": "Python 3",
   "language": "python",
   "name": "python3"
  },
  "language_info": {
   "codemirror_mode": {
    "name": "ipython",
    "version": 3
   },
   "file_extension": ".py",
   "mimetype": "text/x-python",
   "name": "python",
   "nbconvert_exporter": "python",
   "pygments_lexer": "ipython3",
   "version": "3.13.3"
  }
 },
 "nbformat": 4,
 "nbformat_minor": 5
}
