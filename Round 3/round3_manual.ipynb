{
 "cells": [
  {
   "cell_type": "markdown",
   "id": "d38848b5",
   "metadata": {},
   "source": [
    "First we will consider that the first bid is in range 160-200, and 2nd bid is in range 250-320."
   ]
  },
  {
   "cell_type": "code",
   "execution_count": 1,
   "id": "238eb9db",
   "metadata": {},
   "outputs": [
    {
     "name": "stdout",
     "output_type": "stream",
     "text": [
      "Profit: 6025\n",
      "200 285\n"
     ]
    }
   ],
   "source": [
    "def profit1(x,y):\n",
    "    return ((x-160)*(320-x))+((y-x-50)*(320-y))\n",
    "\n",
    "x,y=0,0\n",
    "prof=float('-inf')\n",
    "for i in range(160,201):\n",
    "    for j in range(250,321):\n",
    "        if(prof<profit1(i,j)):\n",
    "            x,y= i,j\n",
    "            prof=profit1(i,j)\n",
    "\n",
    "print(\"Profit:\", prof)\n",
    "print(x,y)"
   ]
  },
  {
   "cell_type": "markdown",
   "id": "5f0f16f2",
   "metadata": {},
   "source": [
    "this is a small profit, so i don't think going for this is good, we'll try putting x in range 200-250 now"
   ]
  },
  {
   "cell_type": "code",
   "execution_count": 2,
   "id": "bd001f0f",
   "metadata": {},
   "outputs": [
    {
     "name": "stdout",
     "output_type": "stream",
     "text": [
      "Profit: 6025\n",
      "200 285\n"
     ]
    }
   ],
   "source": [
    "def profit2(x,y):\n",
    "    return ((40)*(320-x))+((y-250)*(320-y))\n",
    "\n",
    "x,y=0,0\n",
    "prof=float('-inf')\n",
    "for i in range(200,251):\n",
    "    for j in range(250,321):\n",
    "        if(prof<profit2(i,j)):\n",
    "            x,y= i,j\n",
    "            prof=profit2(i,j)\n",
    "\n",
    "print(\"Profit:\", prof)\n",
    "print(x,y)"
   ]
  },
  {
   "cell_type": "markdown",
   "id": "56fa5062",
   "metadata": {},
   "source": [
    "this is the same. we'll put x in range 250-y now"
   ]
  },
  {
   "cell_type": "code",
   "execution_count": 3,
   "id": "c6b87eaf",
   "metadata": {},
   "outputs": [
    {
     "name": "stdout",
     "output_type": "stream",
     "text": [
      "Profit: 4025\n",
      "250 285\n"
     ]
    }
   ],
   "source": [
    "def profit3(x,y):\n",
    "    return ((x-210)*(320-x))+((y-x)*(320-y))\n",
    "\n",
    "x,y=0,0\n",
    "prof=float('-inf')\n",
    "for j in range(250,321):\n",
    "    for i in range(250,j+1):\n",
    "        if(prof<profit3(i,j)):\n",
    "            x,y= i,j\n",
    "            prof=profit3(i,j)\n",
    "\n",
    "print(\"Profit:\", prof)\n",
    "print(x,y)"
   ]
  },
  {
   "cell_type": "markdown",
   "id": "f5203efe",
   "metadata": {},
   "source": [
    "this is even worse lmao.. now we will put x in 160-200 and y in 200-250"
   ]
  },
  {
   "cell_type": "code",
   "execution_count": 4,
   "id": "23a6d4cc",
   "metadata": {},
   "outputs": [
    {
     "name": "stdout",
     "output_type": "stream",
     "text": [
      "Profit: 5200\n",
      "180 200\n"
     ]
    }
   ],
   "source": [
    "def profit4(x,y):\n",
    "    return ((x-160)*(320-x))+((200-x)*(320-y))\n",
    "\n",
    "x,y=0,0\n",
    "prof=float('-inf')\n",
    "for i in range(160,201):\n",
    "    for j in range(200,321):\n",
    "        if(prof<profit4(i,j)):\n",
    "            x,y= i,j\n",
    "            prof=profit4(i,j)\n",
    "\n",
    "print(\"Profit:\", prof)\n",
    "print(x,y)"
   ]
  },
  {
   "cell_type": "markdown",
   "id": "2a1435d0",
   "metadata": {},
   "source": [
    "this seems decent, but not good enough... now well try both x and y in 200-250"
   ]
  },
  {
   "cell_type": "code",
   "execution_count": 5,
   "id": "0950eb38",
   "metadata": {},
   "outputs": [
    {
     "name": "stdout",
     "output_type": "stream",
     "text": [
      "Profit: 4800\n",
      "200 200\n"
     ]
    }
   ],
   "source": [
    "def profit5(x,y):\n",
    "    return 40*(320-x)\n",
    "\n",
    "x,y=0,0\n",
    "prof=float('-inf')\n",
    "for j in range(200,251):\n",
    "    for i in range(200,j+1):\n",
    "        if(prof<profit5(i,j)):\n",
    "            x,y= i,j\n",
    "            prof=profit5(i,j)\n",
    "\n",
    "print(\"Profit:\", prof)\n",
    "print(x,y)"
   ]
  },
  {
   "cell_type": "markdown",
   "id": "9388670d",
   "metadata": {},
   "source": [
    "why even bother... now x and y in range 160-200"
   ]
  },
  {
   "cell_type": "code",
   "execution_count": 6,
   "id": "c93279e4",
   "metadata": {},
   "outputs": [
    {
     "name": "stdout",
     "output_type": "stream",
     "text": [
      "Profit: 5099\n",
      "179 199\n"
     ]
    }
   ],
   "source": [
    "def profit6(x,y):\n",
    "    return ((x-160)*(320-x))+((y-x)*(320-y))\n",
    "\n",
    "x,y=0,0\n",
    "prof=float('-inf')\n",
    "for j in range(160,200):\n",
    "    for i in range(160,j+1):\n",
    "        if(prof<profit6(i,j)):\n",
    "            x,y= i,j\n",
    "            prof=profit6(i,j)\n",
    "\n",
    "print(\"Profit:\", prof)\n",
    "print(x,y)"
   ]
  },
  {
   "cell_type": "markdown",
   "id": "0a1237f1",
   "metadata": {},
   "source": [
    "somehow this is the best?! how tf??"
   ]
  },
  {
   "cell_type": "markdown",
   "id": "2cbd2e52",
   "metadata": {},
   "source": [
    "So finally the best we found so far is bid1-200, bid2-285, with profit of around 6025 (*considering at each interval of 1 place, like 169-170, only1 turtle is there selling only 1 flipper) this also ignores the face that we are supposed to check the average bid. now if average bid is 285(considering all people put 285) we'll chek which one is the best for us now using probability they shaed on wiki."
   ]
  },
  {
   "cell_type": "code",
   "execution_count": 14,
   "id": "8131728d",
   "metadata": {},
   "outputs": [
    {
     "name": "stdout",
     "output_type": "stream",
     "text": [
      "Profit: 6025.0\n",
      "200 285\n",
      "Profit at 200,295:  5925\n",
      "Profit at 200,300:  5800\n",
      "Profit at 200,280:  5603.90625\n"
     ]
    }
   ],
   "source": [
    "def profit7(x,y):\n",
    "    return ((x-160)*(320-x))+((y-x-50)*(320-y))*(min((35/(320-y))**3,1))\n",
    "x,y=0,0\n",
    "prof=float('-inf')\n",
    "for i in range(160,201):\n",
    "    for j in range(250,320):\n",
    "        if(prof<profit7(i,j)):\n",
    "            x,y= i,j\n",
    "            prof=profit7(i,j)\n",
    "\n",
    "print(\"Profit:\", prof)\n",
    "print(x,y)\n",
    "print(\"Profit at 200,295: \", profit7(200,295))\n",
    "print(\"Profit at 200,300: \", profit7(200,300))\n",
    "print(\"Profit at 200,280: \", profit7(200,280))"
   ]
  },
  {
   "cell_type": "markdown",
   "id": "0f90961b",
   "metadata": {},
   "source": [
    "we can see that making the 2nd bid as 295 or 300 will reduce our \"expected\" profit by 100 and 225 respectively, but that might also guarantee us the trade, because most people will go for the 285 bid. Going for below the threshold, we can see how rapodly the profit decreases. it decreased by 400 by just bidding 5 points below average. Also similar to last year, there might be a lot of bots increaseing(or decreasing, but mostly increasing) the average 2nd bid."
   ]
  }
 ],
 "metadata": {
  "kernelspec": {
   "display_name": "Python 3",
   "language": "python",
   "name": "python3"
  },
  "language_info": {
   "codemirror_mode": {
    "name": "ipython",
    "version": 3
   },
   "file_extension": ".py",
   "mimetype": "text/x-python",
   "name": "python",
   "nbconvert_exporter": "python",
   "pygments_lexer": "ipython3",
   "version": "3.13.3"
  }
 },
 "nbformat": 4,
 "nbformat_minor": 5
}
